{
 "cells": [
  {
   "cell_type": "code",
   "execution_count": null,
   "metadata": {},
   "outputs": [],
   "source": [
    "!pip install playsound\n",
    "!pip install gtts\n",
    "!pip install speech_recognition"
   ]
  },
  {
   "cell_type": "code",
   "execution_count": 5,
   "metadata": {},
   "outputs": [],
   "source": [
    "from playsound import playsound\n",
    "from gtts import gTTS\n",
    "#import speech_recognition as sr\n",
    "import os"
   ]
  },
  {
   "cell_type": "code",
   "execution_count": 6,
   "metadata": {},
   "outputs": [],
   "source": [
    "def speak(string):\n",
    "    tts=gTTS(text=string, lang=\"tr\")\n",
    "    file=\"answer.mp3\"\n",
    "    tts.save(file)\n",
    "    playsound(file)\n",
    "    os.remove(file)"
   ]
  },
  {
   "cell_type": "code",
   "execution_count": 7,
   "metadata": {},
   "outputs": [],
   "source": [
    "import random"
   ]
  },
  {
   "cell_type": "code",
   "execution_count": 27,
   "metadata": {},
   "outputs": [],
   "source": [
    "def sans_oyunu():\n",
    "    speak(\"Şans topu oyununa hoşgeldiniz.Kaç kez oynamak istersiniz.\")\n",
    "    kac_kez=int(input(\"Kaç kez oynamak istersiniz= \"))\n",
    "    speak(str(kac_kez)+ \" kez oynamak istiyorsunuz\")\n",
    "    puan=kac_kez*10\n",
    "    speak(str(puan)+\"puanla oyuna başlıyorsunuz...\")\n",
    "    sayi_tahmin=random.randint(1,100)\n",
    "    for i in range(0,kac_kez):\n",
    "        speak(\"sayıyı giriniz\")\n",
    "        sayi=int(input(\"Lütfen sayıyı giriniz= \"))      \n",
    "        speak(str(sayi)+\"sayısını girdiniz.\")    \n",
    "        if sayi>sayi_tahmin:\n",
    "            if puan==10:\n",
    "                puan-=10\n",
    "                speak(\"Puanınız \"+str(puan)+\"Malesef olmadı. Bir dahaki sefere.Tahmin edilen sayı\"+ str(sayi_tahmin))\n",
    "            else:\n",
    "                puan-=10\n",
    "                speak(\"Puanınız\" +str(puan)+\"Lütfen daha küçük.\")\n",
    "        elif sayi<sayi_tahmin:\n",
    "            if puan==10:\n",
    "                puan-=10\n",
    "                speak(\"Puanınız \"+str(puan)+\"Malesef olmadı. Bir dahaki sefere.Tahmin edilen sayı\"+ str(sayi_tahmin) )\n",
    "            else:\n",
    "                puan-=10\n",
    "                speak(\"Puanınız \"+str(puan)+\"Lütfen daha büyük.\")\n",
    "        elif sayi==tahmin_sayi:\n",
    "            puan+=10\n",
    "            speak(\"Tebrikler doğru tahminde bulundunuz..\")\n",
    "            speak(\"Puanınız \"+str(puan))"
   ]
  },
  {
   "cell_type": "code",
   "execution_count": 28,
   "metadata": {},
   "outputs": [
    {
     "name": "stdout",
     "output_type": "stream",
     "text": [
      "Kaç kez oynamak istersiniz= 7\n",
      "Lütfen sayıyı giriniz= 55\n",
      "Lütfen sayıyı giriniz= 40\n",
      "Lütfen sayıyı giriniz= 25\n",
      "Lütfen sayıyı giriniz= 30\n",
      "Lütfen sayıyı giriniz= 35\n",
      "Lütfen sayıyı giriniz= 32\n",
      "Lütfen sayıyı giriniz= 33\n"
     ]
    }
   ],
   "source": [
    "sans_oyunu()"
   ]
  },
  {
   "cell_type": "code",
   "execution_count": null,
   "metadata": {},
   "outputs": [],
   "source": []
  }
 ],
 "metadata": {
  "kernelspec": {
   "display_name": "Python 3",
   "language": "python",
   "name": "python3"
  },
  "language_info": {
   "codemirror_mode": {
    "name": "ipython",
    "version": 3
   },
   "file_extension": ".py",
   "mimetype": "text/x-python",
   "name": "python",
   "nbconvert_exporter": "python",
   "pygments_lexer": "ipython3",
   "version": "3.8.5"
  }
 },
 "nbformat": 4,
 "nbformat_minor": 4
}
